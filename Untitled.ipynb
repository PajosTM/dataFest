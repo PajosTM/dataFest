{
 "cells": [
  {
   "cell_type": "code",
   "execution_count": 2,
   "id": "b83f697c-afc8-41f7-bedd-f1219f98bb57",
   "metadata": {},
   "outputs": [],
   "source": [
    "import pandas as pd\n",
    "import numpy as np"
   ]
  },
  {
   "cell_type": "code",
   "execution_count": 21,
   "id": "5f32ea6c-39ad-445e-b116-52c7a04bef4a",
   "metadata": {},
   "outputs": [],
   "source": [
    "df = pd.read_csv('exam_result2.csv')"
   ]
  },
  {
   "cell_type": "code",
   "execution_count": 22,
   "id": "ece71dcb-e7ab-4699-a307-67154e27c692",
   "metadata": {},
   "outputs": [
    {
     "data": {
      "text/html": [
       "<div>\n",
       "<style scoped>\n",
       "    .dataframe tbody tr th:only-of-type {\n",
       "        vertical-align: middle;\n",
       "    }\n",
       "\n",
       "    .dataframe tbody tr th {\n",
       "        vertical-align: top;\n",
       "    }\n",
       "\n",
       "    .dataframe thead th {\n",
       "        text-align: right;\n",
       "    }\n",
       "</style>\n",
       "<table border=\"1\" class=\"dataframe\">\n",
       "  <thead>\n",
       "    <tr style=\"text-align: right;\">\n",
       "      <th></th>\n",
       "      <th>Unnamed: 0</th>\n",
       "      <th>result_id</th>\n",
       "      <th>student_id</th>\n",
       "      <th>exam_type</th>\n",
       "      <th>department</th>\n",
       "      <th>subject_scores</th>\n",
       "      <th>pass_or_fail</th>\n",
       "    </tr>\n",
       "  </thead>\n",
       "  <tbody>\n",
       "    <tr>\n",
       "      <th>129</th>\n",
       "      <td>129</td>\n",
       "      <td>NaN</td>\n",
       "      <td>130</td>\n",
       "      <td>WASSCE</td>\n",
       "      <td>Arts</td>\n",
       "      <td>{'English': 53, 'Literature in English': 51, '...</td>\n",
       "      <td>Fail</td>\n",
       "    </tr>\n",
       "    <tr>\n",
       "      <th>366</th>\n",
       "      <td>366</td>\n",
       "      <td>NaN</td>\n",
       "      <td>367</td>\n",
       "      <td>WASSCE</td>\n",
       "      <td>Commercial</td>\n",
       "      <td>{'Financial Accounting': 64, 'Commerce': 73, '...</td>\n",
       "      <td>Fail</td>\n",
       "    </tr>\n",
       "    <tr>\n",
       "      <th>94</th>\n",
       "      <td>94</td>\n",
       "      <td>NaN</td>\n",
       "      <td>95</td>\n",
       "      <td>WASSCE</td>\n",
       "      <td>Arts</td>\n",
       "      <td>{'English': 43, 'Literature in English': 67, '...</td>\n",
       "      <td>Fail</td>\n",
       "    </tr>\n",
       "    <tr>\n",
       "      <th>228</th>\n",
       "      <td>228</td>\n",
       "      <td>NaN</td>\n",
       "      <td>229</td>\n",
       "      <td>WASSCE</td>\n",
       "      <td>Commercial</td>\n",
       "      <td>{'Financial Accounting': 52, 'Commerce': 48, '...</td>\n",
       "      <td>Fail</td>\n",
       "    </tr>\n",
       "    <tr>\n",
       "      <th>463</th>\n",
       "      <td>463</td>\n",
       "      <td>NaN</td>\n",
       "      <td>464</td>\n",
       "      <td>WASSCE</td>\n",
       "      <td>Commercial</td>\n",
       "      <td>{'Financial Accounting': 49, 'Commerce': 62, '...</td>\n",
       "      <td>Fail</td>\n",
       "    </tr>\n",
       "  </tbody>\n",
       "</table>\n",
       "</div>"
      ],
      "text/plain": [
       "     Unnamed: 0  result_id  student_id exam_type  department  \\\n",
       "129         129        NaN         130    WASSCE        Arts   \n",
       "366         366        NaN         367    WASSCE  Commercial   \n",
       "94           94        NaN          95    WASSCE        Arts   \n",
       "228         228        NaN         229    WASSCE  Commercial   \n",
       "463         463        NaN         464    WASSCE  Commercial   \n",
       "\n",
       "                                        subject_scores pass_or_fail  \n",
       "129  {'English': 53, 'Literature in English': 51, '...         Fail  \n",
       "366  {'Financial Accounting': 64, 'Commerce': 73, '...         Fail  \n",
       "94   {'English': 43, 'Literature in English': 67, '...         Fail  \n",
       "228  {'Financial Accounting': 52, 'Commerce': 48, '...         Fail  \n",
       "463  {'Financial Accounting': 49, 'Commerce': 62, '...         Fail  "
      ]
     },
     "execution_count": 22,
     "metadata": {},
     "output_type": "execute_result"
    }
   ],
   "source": [
    "df.sample(5)"
   ]
  },
  {
   "cell_type": "code",
   "execution_count": 23,
   "id": "68ede75e-43e6-4fba-ac51-700d0f2e8b50",
   "metadata": {},
   "outputs": [],
   "source": [
    "import ast\n",
    "df['subject_scores'] = df['subject_scores'].apply(ast.literal_eval)"
   ]
  },
  {
   "cell_type": "code",
   "execution_count": 8,
   "id": "079270df-0124-4657-a3a5-6d579381af78",
   "metadata": {},
   "outputs": [],
   "source": [
    "# # Convert subject_scores from JSON string to a dictionary\n",
    "# import json\n",
    "# df['subject_scores'] = df['subject_scores'].apply(json.loads)"
   ]
  },
  {
   "cell_type": "code",
   "execution_count": 9,
   "id": "18b762a9-9835-43ae-92c5-4eccb06a5442",
   "metadata": {},
   "outputs": [
    {
     "data": {
      "text/html": [
       "<div>\n",
       "<style scoped>\n",
       "    .dataframe tbody tr th:only-of-type {\n",
       "        vertical-align: middle;\n",
       "    }\n",
       "\n",
       "    .dataframe tbody tr th {\n",
       "        vertical-align: top;\n",
       "    }\n",
       "\n",
       "    .dataframe thead th {\n",
       "        text-align: right;\n",
       "    }\n",
       "</style>\n",
       "<table border=\"1\" class=\"dataframe\">\n",
       "  <thead>\n",
       "    <tr style=\"text-align: right;\">\n",
       "      <th></th>\n",
       "      <th>result_id</th>\n",
       "      <th>student_id</th>\n",
       "      <th>exam_type</th>\n",
       "      <th>department</th>\n",
       "      <th>subject_scores</th>\n",
       "      <th>pass_or_fail</th>\n",
       "    </tr>\n",
       "  </thead>\n",
       "  <tbody>\n",
       "    <tr>\n",
       "      <th>73</th>\n",
       "      <td>NaN</td>\n",
       "      <td>74</td>\n",
       "      <td>WASSCE</td>\n",
       "      <td>Science</td>\n",
       "      <td>{'Mathematics': 48, 'English': 83, 'Physics': ...</td>\n",
       "      <td>Fail</td>\n",
       "    </tr>\n",
       "    <tr>\n",
       "      <th>202</th>\n",
       "      <td>NaN</td>\n",
       "      <td>203</td>\n",
       "      <td>WASSCE</td>\n",
       "      <td>Commercial</td>\n",
       "      <td>{'Financial Accounting': 49, 'Commerce': 59, '...</td>\n",
       "      <td>Pass</td>\n",
       "    </tr>\n",
       "  </tbody>\n",
       "</table>\n",
       "</div>"
      ],
      "text/plain": [
       "     result_id  student_id exam_type  department  \\\n",
       "73         NaN          74    WASSCE     Science   \n",
       "202        NaN         203    WASSCE  Commercial   \n",
       "\n",
       "                                        subject_scores pass_or_fail  \n",
       "73   {'Mathematics': 48, 'English': 83, 'Physics': ...         Fail  \n",
       "202  {'Financial Accounting': 49, 'Commerce': 59, '...         Pass  "
      ]
     },
     "execution_count": 9,
     "metadata": {},
     "output_type": "execute_result"
    }
   ],
   "source": [
    "df.sample(2)"
   ]
  },
  {
   "cell_type": "code",
   "execution_count": 10,
   "id": "fd84babc-a2e9-4b76-b42c-e63f337449b1",
   "metadata": {},
   "outputs": [
    {
     "name": "stdout",
     "output_type": "stream",
     "text": [
      "<class 'pandas.core.frame.DataFrame'>\n",
      "RangeIndex: 500 entries, 0 to 499\n",
      "Data columns (total 6 columns):\n",
      " #   Column          Non-Null Count  Dtype  \n",
      "---  ------          --------------  -----  \n",
      " 0   result_id       0 non-null      float64\n",
      " 1   student_id      500 non-null    int64  \n",
      " 2   exam_type       500 non-null    object \n",
      " 3   department      500 non-null    object \n",
      " 4   subject_scores  500 non-null    object \n",
      " 5   pass_or_fail    500 non-null    object \n",
      "dtypes: float64(1), int64(1), object(4)\n",
      "memory usage: 23.6+ KB\n"
     ]
    }
   ],
   "source": [
    "df.info()"
   ]
  },
  {
   "cell_type": "code",
   "execution_count": 24,
   "id": "508272a4-b241-413b-a984-7e3a2a55ad79",
   "metadata": {},
   "outputs": [],
   "source": [
    "sci_students_df = df[df['department'] == 'Science']\n",
    "arts_students_df = df[df['department'] == 'Arts']\n",
    "comm_students_df = df[df['department'] == 'Commercial']"
   ]
  },
  {
   "cell_type": "code",
   "execution_count": 25,
   "id": "23e13e8a-64f8-49e1-96d9-c05b371b7b31",
   "metadata": {},
   "outputs": [
    {
     "data": {
      "text/plain": [
       "pass_or_fail\n",
       "Fail    44\n",
       "Pass    39\n",
       "Name: count, dtype: int64"
      ]
     },
     "execution_count": 25,
     "metadata": {},
     "output_type": "execute_result"
    }
   ],
   "source": [
    "sci_students_df['pass_or_fail'].value_counts()"
   ]
  },
  {
   "cell_type": "code",
   "execution_count": 26,
   "id": "1b0361a3-f1cb-4854-8f9c-aeed14f0caf5",
   "metadata": {},
   "outputs": [
    {
     "data": {
      "text/plain": [
       "pass_or_fail\n",
       "Fail    72\n",
       "Pass    47\n",
       "Name: count, dtype: int64"
      ]
     },
     "execution_count": 26,
     "metadata": {},
     "output_type": "execute_result"
    }
   ],
   "source": [
    "arts_students_df['pass_or_fail'].value_counts()"
   ]
  },
  {
   "cell_type": "code",
   "execution_count": 27,
   "id": "570cb60d-3a63-4545-b152-e94be8ca2c43",
   "metadata": {},
   "outputs": [
    {
     "data": {
      "text/plain": [
       "pass_or_fail\n",
       "Fail    206\n",
       "Pass     92\n",
       "Name: count, dtype: int64"
      ]
     },
     "execution_count": 27,
     "metadata": {},
     "output_type": "execute_result"
    }
   ],
   "source": [
    "comm_students_df['pass_or_fail'].value_counts()"
   ]
  },
  {
   "cell_type": "code",
   "execution_count": 11,
   "id": "8990450f-357d-49a5-ba16-adecde7057df",
   "metadata": {},
   "outputs": [],
   "source": [
    "comm_students_df = df[df['department'] == 'Commercial']"
   ]
  },
  {
   "cell_type": "code",
   "execution_count": 12,
   "id": "3ae0ffb7-8ec9-42d9-b5aa-67c2cb26c00d",
   "metadata": {},
   "outputs": [
    {
     "data": {
      "text/html": [
       "<div>\n",
       "<style scoped>\n",
       "    .dataframe tbody tr th:only-of-type {\n",
       "        vertical-align: middle;\n",
       "    }\n",
       "\n",
       "    .dataframe tbody tr th {\n",
       "        vertical-align: top;\n",
       "    }\n",
       "\n",
       "    .dataframe thead th {\n",
       "        text-align: right;\n",
       "    }\n",
       "</style>\n",
       "<table border=\"1\" class=\"dataframe\">\n",
       "  <thead>\n",
       "    <tr style=\"text-align: right;\">\n",
       "      <th></th>\n",
       "      <th>result_id</th>\n",
       "      <th>student_id</th>\n",
       "      <th>exam_type</th>\n",
       "      <th>department</th>\n",
       "      <th>subject_scores</th>\n",
       "      <th>pass_or_fail</th>\n",
       "    </tr>\n",
       "  </thead>\n",
       "  <tbody>\n",
       "    <tr>\n",
       "      <th>480</th>\n",
       "      <td>NaN</td>\n",
       "      <td>481</td>\n",
       "      <td>WASSCE</td>\n",
       "      <td>Commercial</td>\n",
       "      <td>{'Financial Accounting': 44, 'Commerce': 64, '...</td>\n",
       "      <td>Fail</td>\n",
       "    </tr>\n",
       "  </tbody>\n",
       "</table>\n",
       "</div>"
      ],
      "text/plain": [
       "     result_id  student_id exam_type  department  \\\n",
       "480        NaN         481    WASSCE  Commercial   \n",
       "\n",
       "                                        subject_scores pass_or_fail  \n",
       "480  {'Financial Accounting': 44, 'Commerce': 64, '...         Fail  "
      ]
     },
     "execution_count": 12,
     "metadata": {},
     "output_type": "execute_result"
    }
   ],
   "source": [
    "comm_students_df.sample()"
   ]
  },
  {
   "cell_type": "code",
   "execution_count": 16,
   "id": "219f0222-0fe3-4d5b-9a5a-56cbe8cc0f09",
   "metadata": {},
   "outputs": [
    {
     "name": "stdout",
     "output_type": "stream",
     "text": [
      "     student_id pass_or_fail\n",
      "202         203         Fail\n",
      "203         204         Fail\n",
      "204         205         Fail\n",
      "205         206         Fail\n",
      "206         207         Fail\n",
      "..          ...          ...\n",
      "495         496         Pass\n",
      "496         497         Fail\n",
      "497         498         Fail\n",
      "498         499         Pass\n",
      "499         500         Fail\n",
      "\n",
      "[298 rows x 2 columns]\n"
     ]
    },
    {
     "name": "stderr",
     "output_type": "stream",
     "text": [
      "C:\\Users\\hp\\AppData\\Local\\Temp\\ipykernel_13940\\1090816733.py:16: SettingWithCopyWarning: \n",
      "A value is trying to be set on a copy of a slice from a DataFrame.\n",
      "Try using .loc[row_indexer,col_indexer] = value instead\n",
      "\n",
      "See the caveats in the documentation: https://pandas.pydata.org/pandas-docs/stable/user_guide/indexing.html#returning-a-view-versus-a-copy\n",
      "  comm_students_df['pass_or_fail'] = comm_students_df.apply(check_pass_fail, axis=1)\n"
     ]
    }
   ],
   "source": [
    "# Check the passing condition for Arts department directly in the DataFrame\n",
    "def check_pass_fail(row):\n",
    "    subject_scores = row['subject_scores']  # This is a dictionary\n",
    "    # Check the passing conditions\n",
    "    if (\n",
    "        subject_scores.get(\"English Language\", 0) >= 50 and\n",
    "        subject_scores.get(\"Mathematics\", 0) >= 50 and\n",
    "        subject_scores.get(\"Financial Accounting\", 0) >= 50 and\n",
    "        subject_scores.get(\"Commerce\", 0) >= 50 and\n",
    "        subject_scores.get(\"Economics\", 0) >= 50):\n",
    "        return \"Pass\"\n",
    "    else:\n",
    "        return \"Fail\"\n",
    "\n",
    "# Apply the check_pass_fail function to each row\n",
    "comm_students_df['pass_or_fail'] = comm_students_df.apply(check_pass_fail, axis=1)\n",
    "\n",
    "# Optionally, print the updated DataFrame\n",
    "print(comm_students_df[['student_id', 'pass_or_fail']])  # Replace with columns you want to see\n"
   ]
  },
  {
   "cell_type": "code",
   "execution_count": 17,
   "id": "681fb6a8-15c0-4545-9091-0c34d090d210",
   "metadata": {},
   "outputs": [
    {
     "data": {
      "text/plain": [
       "pass_or_fail\n",
       "Fail    206\n",
       "Pass     92\n",
       "Name: count, dtype: int64"
      ]
     },
     "execution_count": 17,
     "metadata": {},
     "output_type": "execute_result"
    }
   ],
   "source": [
    "comm_students_df['pass_or_fail'].value_counts()"
   ]
  },
  {
   "cell_type": "code",
   "execution_count": 18,
   "id": "53958b0e-fc31-404c-868c-502cb53d629d",
   "metadata": {},
   "outputs": [
    {
     "name": "stderr",
     "output_type": "stream",
     "text": [
      "C:\\Users\\hp\\AppData\\Local\\Temp\\ipykernel_13940\\189482472.py:2: SettingWithCopyWarning: \n",
      "A value is trying to be set on a copy of a slice from a DataFrame.\n",
      "Try using .loc[row_indexer,col_indexer] = value instead\n",
      "\n",
      "See the caveats in the documentation: https://pandas.pydata.org/pandas-docs/stable/user_guide/indexing.html#returning-a-view-versus-a-copy\n",
      "  comm_students_df['pass_or_fail'] = comm_students_df.apply(check_pass_fail, axis=1)\n"
     ]
    }
   ],
   "source": [
    "# Apply the function to determine pass/fail status\n",
    "comm_students_df['pass_or_fail'] = comm_students_df.apply(check_pass_fail, axis=1)\n",
    "\n",
    "# Now, merge the updated arts students back into the original DataFrame\n",
    "df = pd.merge(df, comm_students_df[['student_id', 'pass_or_fail']], on='student_id', how='left', suffixes=('', '_new'))\n",
    "\n",
    "# Update the original pass_or_fail column with the new values\n",
    "df['pass_or_fail'] = df['pass_or_fail_new'].combine_first(df['pass_or_fail'])\n",
    "\n",
    "# Drop the temporary new column\n",
    "df.drop(columns=['pass_or_fail_new'], inplace=True)"
   ]
  },
  {
   "cell_type": "code",
   "execution_count": 19,
   "id": "817f563e-d59a-45e0-b362-335a25f8050d",
   "metadata": {},
   "outputs": [
    {
     "data": {
      "text/html": [
       "<div>\n",
       "<style scoped>\n",
       "    .dataframe tbody tr th:only-of-type {\n",
       "        vertical-align: middle;\n",
       "    }\n",
       "\n",
       "    .dataframe tbody tr th {\n",
       "        vertical-align: top;\n",
       "    }\n",
       "\n",
       "    .dataframe thead th {\n",
       "        text-align: right;\n",
       "    }\n",
       "</style>\n",
       "<table border=\"1\" class=\"dataframe\">\n",
       "  <thead>\n",
       "    <tr style=\"text-align: right;\">\n",
       "      <th></th>\n",
       "      <th>result_id</th>\n",
       "      <th>student_id</th>\n",
       "      <th>exam_type</th>\n",
       "      <th>department</th>\n",
       "      <th>subject_scores</th>\n",
       "      <th>pass_or_fail</th>\n",
       "    </tr>\n",
       "  </thead>\n",
       "  <tbody>\n",
       "    <tr>\n",
       "      <th>57</th>\n",
       "      <td>NaN</td>\n",
       "      <td>58</td>\n",
       "      <td>WASSCE</td>\n",
       "      <td>Science</td>\n",
       "      <td>{'Mathematics': 43, 'English': 72, 'Physics': ...</td>\n",
       "      <td>Fail</td>\n",
       "    </tr>\n",
       "  </tbody>\n",
       "</table>\n",
       "</div>"
      ],
      "text/plain": [
       "    result_id  student_id exam_type department  \\\n",
       "57        NaN          58    WASSCE    Science   \n",
       "\n",
       "                                       subject_scores pass_or_fail  \n",
       "57  {'Mathematics': 43, 'English': 72, 'Physics': ...         Fail  "
      ]
     },
     "execution_count": 19,
     "metadata": {},
     "output_type": "execute_result"
    }
   ],
   "source": [
    "df.sample()"
   ]
  },
  {
   "cell_type": "code",
   "execution_count": 20,
   "id": "5dc7fe15-119b-47ac-bb48-ddfc0f64583f",
   "metadata": {},
   "outputs": [],
   "source": [
    "df.to_csv('exam_result2.csv')"
   ]
  },
  {
   "cell_type": "code",
   "execution_count": 29,
   "id": "c97dc80a-8cc9-4b19-99eb-db60c0b257de",
   "metadata": {},
   "outputs": [
    {
     "name": "stdout",
     "output_type": "stream",
     "text": [
      "Updated academic records saved to updated_academic_records_correct_passmark.csv\n"
     ]
    }
   ],
   "source": [
    "import pandas as pd\n",
    "import random\n",
    "import json\n",
    "\n",
    "# Define compulsory and elective subjects for Arts and Commercial departments\n",
    "subjects = {\n",
    "    \"Arts\": {\n",
    "        \"compulsory\": [\"English\", \"Literature in English\", \"History\", \"Government\", \"Religious Studies\"],\n",
    "        \"electives\": [\"Mathematics\", \"Economics\", \"Commerce\", \"Fine Arts\",\n",
    "                      \"Marketing\", \"Biology\", \"Agricultural Science\"]\n",
    "    },\n",
    "    \"Commercial\": {\n",
    "        \"compulsory\": [\"Financial Accounting\", \"Commerce\", \"Economics\", \"English Language\", \"Mathematics\"],\n",
    "        \"electives\": [\"Geography\", \"Government\", \"Agricultural Science\", \"Biology\",\n",
    "                      \"Yoruba Language\", \"Further Mathematics\",\n",
    "                      \"Civic Education\"]\n",
    "    }\n",
    "}\n",
    "\n",
    "# Function to prevent students from failing a subject 3 consecutive times\n",
    "def prevent_consecutive_fails_correct(records, department):\n",
    "    # Parse the subject_scores from JSON-like structure\n",
    "    subject_scores = json.loads(records)\n",
    "    compulsory_subjects = subjects[department][\"compulsory\"]\n",
    "\n",
    "    # Check each compulsory subject across terms\n",
    "    for subject in compulsory_subjects:\n",
    "        fail_streak = 0\n",
    "        for term in subject_scores:\n",
    "            if subject in subject_scores[term]:\n",
    "                score = subject_scores[term][subject]\n",
    "                if score < 50:  # Considering a score below 50 as a fail\n",
    "                    fail_streak += 1\n",
    "                else:\n",
    "                    fail_streak = 0\n",
    "\n",
    "                # If a student has failed the subject for 2 consecutive terms, adjust the score in the third term\n",
    "                if fail_streak == 3:\n",
    "                    subject_scores[term][subject] = random.randint(60, 80)  # Ensure the score is at least 50 (pass)\n",
    "                    fail_streak -= 1 # Reset the streak\n",
    "\n",
    "    return json.dumps(subject_scores)\n",
    "\n",
    "\n",
    "\n",
    "# Reading the exam_result2 and academic_records CSV files\n",
    "exam_results = pd.read_csv('exam_result2.csv')\n",
    "academic_records = pd.read_csv('academic_records.csv')\n",
    "\n",
    "# Apply the prevention of consecutive fails for compulsory subjects\n",
    "for index, row in academic_records.iterrows():\n",
    "    student_id = row['student_id']\n",
    "    department = row['department']\n",
    "\n",
    "    if department in ['Commercial', 'Arts']:\n",
    "        updated_subject_scores = prevent_consecutive_fails_correct(row['subject_scores'], department)\n",
    "        academic_records.at[index, 'subject_scores'] = updated_subject_scores\n",
    "\n",
    "# Save the updated academic_records.csv with correct pass mark\n",
    "updated_academic_records_path_correct = 'updated_academic_records_correct_passmark.csv'  # Update the file path as needed\n",
    "academic_records.to_csv(updated_academic_records_path_correct, index=False)\n",
    "\n",
    "print(f\"Updated academic records saved to {updated_academic_records_path_correct}\")\n"
   ]
  },
  {
   "cell_type": "code",
   "execution_count": 82,
   "id": "03b92ae8-ed4f-45fb-95c8-c9744b70c025",
   "metadata": {},
   "outputs": [
    {
     "name": "stdout",
     "output_type": "stream",
     "text": [
      "Updated academic records saved to updated_academic_records1.csv\n"
     ]
    }
   ],
   "source": [
    "import pandas as pd\n",
    "import json\n",
    "\n",
    "# Load the provided academic_records CSV file\n",
    "# academic_records_path = 'path_to_academic_records.csv'  # Update the file path\n",
    "academic_records = pd.read_csv('updated_academic_records1.csv')\n",
    "\n",
    "# Define a function to standardize the subject names and ensure \"Religion Studies\" is included\n",
    "def correct_religious_studies(records):\n",
    "    # Parse the subject_scores from JSON-like structure\n",
    "    subject_scores = json.loads(records)\n",
    "    \n",
    "    # Track whether the student has \"Religion Studies\"\n",
    "    has_religion_studies = False\n",
    "    \n",
    "    # Iterate over terms and subjects\n",
    "    for term in subject_scores:\n",
    "        term_subjects = subject_scores[term]\n",
    "        # Rename \"Christian Religious Studies\" to \"Religion Studies\"\n",
    "        if \"Yoruba Language\" in term_subjects:\n",
    "            term_subjects[\"Yoruba\"] = term_subjects.pop(\"Yoruba Language\")\n",
    "        # Check if \"Religion Studies\" is already present\n",
    "        if \"Yoruba \" in term_subjects:\n",
    "            has_religion_studies = True\n",
    "    \n",
    "    # If \"Religion Studies\" is missing, add it with a default value\n",
    "    if not has_religion_studies:\n",
    "        for term in subject_scores:\n",
    "            subject_scores[term][\"Data Processing\"] = random.randint(50, 70)  # Assign a default score\n",
    "    \n",
    "    return json.dumps(subject_scores)\n",
    "\n",
    "# Apply the corrections for each student\n",
    "for index, row in academic_records.iterrows():\n",
    "    updated_subject_scores = correct_religious_studies(row['subject_scores'])\n",
    "    academic_records.at[index, 'subject_scores'] = updated_subject_scores\n",
    "\n",
    "# Save the updated academic_records.csv\n",
    "updated_academic_records_path_religion = 'updated_academic_records1.csv'  # Update file path as needed\n",
    "academic_records.to_csv(updated_academic_records_path_religion, index=False)\n",
    "\n",
    "print(f\"Updated academic records saved to {updated_academic_records_path_religion}\")\n"
   ]
  },
  {
   "cell_type": "code",
   "execution_count": 31,
   "id": "ddc77e1f-0458-4717-8e7c-b1cd13c04629",
   "metadata": {},
   "outputs": [],
   "source": [
    "exam_results = pd.read_csv('exam_result2.csv')\n",
    "academic_records = pd.read_csv('updated_academic_records.csv')"
   ]
  },
  {
   "cell_type": "code",
   "execution_count": 56,
   "id": "7d75c310-a0e5-4058-af95-38959942eddb",
   "metadata": {},
   "outputs": [
    {
     "ename": "KeyError",
     "evalue": "'pass_or_fail'",
     "output_type": "error",
     "traceback": [
      "\u001b[1;31m---------------------------------------------------------------------------\u001b[0m",
      "\u001b[1;31mKeyError\u001b[0m                                  Traceback (most recent call last)",
      "File \u001b[1;32m~\\AppData\\Local\\Programs\\Python\\Python312\\Lib\\site-packages\\pandas\\core\\indexes\\base.py:3805\u001b[0m, in \u001b[0;36mIndex.get_loc\u001b[1;34m(self, key)\u001b[0m\n\u001b[0;32m   3804\u001b[0m \u001b[38;5;28;01mtry\u001b[39;00m:\n\u001b[1;32m-> 3805\u001b[0m     \u001b[38;5;28;01mreturn\u001b[39;00m \u001b[38;5;28;43mself\u001b[39;49m\u001b[38;5;241;43m.\u001b[39;49m\u001b[43m_engine\u001b[49m\u001b[38;5;241;43m.\u001b[39;49m\u001b[43mget_loc\u001b[49m\u001b[43m(\u001b[49m\u001b[43mcasted_key\u001b[49m\u001b[43m)\u001b[49m\n\u001b[0;32m   3806\u001b[0m \u001b[38;5;28;01mexcept\u001b[39;00m \u001b[38;5;167;01mKeyError\u001b[39;00m \u001b[38;5;28;01mas\u001b[39;00m err:\n",
      "File \u001b[1;32mindex.pyx:167\u001b[0m, in \u001b[0;36mpandas._libs.index.IndexEngine.get_loc\u001b[1;34m()\u001b[0m\n",
      "File \u001b[1;32mindex.pyx:196\u001b[0m, in \u001b[0;36mpandas._libs.index.IndexEngine.get_loc\u001b[1;34m()\u001b[0m\n",
      "File \u001b[1;32mpandas\\\\_libs\\\\hashtable_class_helper.pxi:7081\u001b[0m, in \u001b[0;36mpandas._libs.hashtable.PyObjectHashTable.get_item\u001b[1;34m()\u001b[0m\n",
      "File \u001b[1;32mpandas\\\\_libs\\\\hashtable_class_helper.pxi:7089\u001b[0m, in \u001b[0;36mpandas._libs.hashtable.PyObjectHashTable.get_item\u001b[1;34m()\u001b[0m\n",
      "\u001b[1;31mKeyError\u001b[0m: 'pass_or_fail'",
      "\nThe above exception was the direct cause of the following exception:\n",
      "\u001b[1;31mKeyError\u001b[0m                                  Traceback (most recent call last)",
      "Cell \u001b[1;32mIn[56], line 56\u001b[0m\n\u001b[0;32m     53\u001b[0m exam_result \u001b[38;5;241m=\u001b[39m exam_results[exam_results[\u001b[38;5;124m'\u001b[39m\u001b[38;5;124mstudent_id\u001b[39m\u001b[38;5;124m'\u001b[39m] \u001b[38;5;241m==\u001b[39m student_id]\n\u001b[0;32m     55\u001b[0m \u001b[38;5;28;01mif\u001b[39;00m \u001b[38;5;129;01mnot\u001b[39;00m exam_result\u001b[38;5;241m.\u001b[39mempty:\n\u001b[1;32m---> 56\u001b[0m     pass_or_fail \u001b[38;5;241m=\u001b[39m \u001b[43mexam_result\u001b[49m\u001b[38;5;241;43m.\u001b[39;49m\u001b[43miloc\u001b[49m\u001b[43m[\u001b[49m\u001b[38;5;241;43m0\u001b[39;49m\u001b[43m]\u001b[49m\u001b[43m[\u001b[49m\u001b[38;5;124;43m'\u001b[39;49m\u001b[38;5;124;43mpass_or_fail\u001b[39;49m\u001b[38;5;124;43m'\u001b[39;49m\u001b[43m]\u001b[49m\n\u001b[0;32m     57\u001b[0m     subject_scores \u001b[38;5;241m=\u001b[39m json\u001b[38;5;241m.\u001b[39mloads(row[\u001b[38;5;124m'\u001b[39m\u001b[38;5;124msubject_scores\u001b[39m\u001b[38;5;124m'\u001b[39m])\n\u001b[0;32m     58\u001b[0m     compulsory_subjects \u001b[38;5;241m=\u001b[39m subjects[department][\u001b[38;5;124m'\u001b[39m\u001b[38;5;124mcompulsory\u001b[39m\u001b[38;5;124m'\u001b[39m]\n",
      "File \u001b[1;32m~\\AppData\\Local\\Programs\\Python\\Python312\\Lib\\site-packages\\pandas\\core\\series.py:1121\u001b[0m, in \u001b[0;36mSeries.__getitem__\u001b[1;34m(self, key)\u001b[0m\n\u001b[0;32m   1118\u001b[0m     \u001b[38;5;28;01mreturn\u001b[39;00m \u001b[38;5;28mself\u001b[39m\u001b[38;5;241m.\u001b[39m_values[key]\n\u001b[0;32m   1120\u001b[0m \u001b[38;5;28;01melif\u001b[39;00m key_is_scalar:\n\u001b[1;32m-> 1121\u001b[0m     \u001b[38;5;28;01mreturn\u001b[39;00m \u001b[38;5;28;43mself\u001b[39;49m\u001b[38;5;241;43m.\u001b[39;49m\u001b[43m_get_value\u001b[49m\u001b[43m(\u001b[49m\u001b[43mkey\u001b[49m\u001b[43m)\u001b[49m\n\u001b[0;32m   1123\u001b[0m \u001b[38;5;66;03m# Convert generator to list before going through hashable part\u001b[39;00m\n\u001b[0;32m   1124\u001b[0m \u001b[38;5;66;03m# (We will iterate through the generator there to check for slices)\u001b[39;00m\n\u001b[0;32m   1125\u001b[0m \u001b[38;5;28;01mif\u001b[39;00m is_iterator(key):\n",
      "File \u001b[1;32m~\\AppData\\Local\\Programs\\Python\\Python312\\Lib\\site-packages\\pandas\\core\\series.py:1237\u001b[0m, in \u001b[0;36mSeries._get_value\u001b[1;34m(self, label, takeable)\u001b[0m\n\u001b[0;32m   1234\u001b[0m     \u001b[38;5;28;01mreturn\u001b[39;00m \u001b[38;5;28mself\u001b[39m\u001b[38;5;241m.\u001b[39m_values[label]\n\u001b[0;32m   1236\u001b[0m \u001b[38;5;66;03m# Similar to Index.get_value, but we do not fall back to positional\u001b[39;00m\n\u001b[1;32m-> 1237\u001b[0m loc \u001b[38;5;241m=\u001b[39m \u001b[38;5;28;43mself\u001b[39;49m\u001b[38;5;241;43m.\u001b[39;49m\u001b[43mindex\u001b[49m\u001b[38;5;241;43m.\u001b[39;49m\u001b[43mget_loc\u001b[49m\u001b[43m(\u001b[49m\u001b[43mlabel\u001b[49m\u001b[43m)\u001b[49m\n\u001b[0;32m   1239\u001b[0m \u001b[38;5;28;01mif\u001b[39;00m is_integer(loc):\n\u001b[0;32m   1240\u001b[0m     \u001b[38;5;28;01mreturn\u001b[39;00m \u001b[38;5;28mself\u001b[39m\u001b[38;5;241m.\u001b[39m_values[loc]\n",
      "File \u001b[1;32m~\\AppData\\Local\\Programs\\Python\\Python312\\Lib\\site-packages\\pandas\\core\\indexes\\base.py:3812\u001b[0m, in \u001b[0;36mIndex.get_loc\u001b[1;34m(self, key)\u001b[0m\n\u001b[0;32m   3807\u001b[0m     \u001b[38;5;28;01mif\u001b[39;00m \u001b[38;5;28misinstance\u001b[39m(casted_key, \u001b[38;5;28mslice\u001b[39m) \u001b[38;5;129;01mor\u001b[39;00m (\n\u001b[0;32m   3808\u001b[0m         \u001b[38;5;28misinstance\u001b[39m(casted_key, abc\u001b[38;5;241m.\u001b[39mIterable)\n\u001b[0;32m   3809\u001b[0m         \u001b[38;5;129;01mand\u001b[39;00m \u001b[38;5;28many\u001b[39m(\u001b[38;5;28misinstance\u001b[39m(x, \u001b[38;5;28mslice\u001b[39m) \u001b[38;5;28;01mfor\u001b[39;00m x \u001b[38;5;129;01min\u001b[39;00m casted_key)\n\u001b[0;32m   3810\u001b[0m     ):\n\u001b[0;32m   3811\u001b[0m         \u001b[38;5;28;01mraise\u001b[39;00m InvalidIndexError(key)\n\u001b[1;32m-> 3812\u001b[0m     \u001b[38;5;28;01mraise\u001b[39;00m \u001b[38;5;167;01mKeyError\u001b[39;00m(key) \u001b[38;5;28;01mfrom\u001b[39;00m \u001b[38;5;21;01merr\u001b[39;00m\n\u001b[0;32m   3813\u001b[0m \u001b[38;5;28;01mexcept\u001b[39;00m \u001b[38;5;167;01mTypeError\u001b[39;00m:\n\u001b[0;32m   3814\u001b[0m     \u001b[38;5;66;03m# If we have a listlike key, _check_indexing_error will raise\u001b[39;00m\n\u001b[0;32m   3815\u001b[0m     \u001b[38;5;66;03m#  InvalidIndexError. Otherwise we fall through and re-raise\u001b[39;00m\n\u001b[0;32m   3816\u001b[0m     \u001b[38;5;66;03m#  the TypeError.\u001b[39;00m\n\u001b[0;32m   3817\u001b[0m     \u001b[38;5;28mself\u001b[39m\u001b[38;5;241m.\u001b[39m_check_indexing_error(key)\n",
      "\u001b[1;31mKeyError\u001b[0m: 'pass_or_fail'"
     ]
    }
   ],
   "source": [
    "import random\n",
    "import json\n",
    "\n",
    "# Helper function to assign academic record scores while ensuring non-consecutive fails\n",
    "def assign_academic_record(category, subject_scores, compulsory_subjects, no_consecutive_fails=False):\n",
    "    for term in subject_scores:\n",
    "        term_subjects = subject_scores[term]\n",
    "        \n",
    "        if category == 'good':\n",
    "            # Good students have scores between 60 and 100, with no fails\n",
    "            for subject in term_subjects:\n",
    "                term_subjects[subject] = random.randint(60, 100)\n",
    "        \n",
    "        elif category == 'average':\n",
    "            # Average students have scores between 45 and 75, with 2 fails (non-consecutive if specified)\n",
    "            for subject in term_subjects:\n",
    "                term_subjects[subject] = random.randint(45, 75)\n",
    "            \n",
    "            fails = random.sample(compulsory_subjects, k=2)\n",
    "            # Spread out fails across terms for non-consecutive condition\n",
    "            if no_consecutive_fails:\n",
    "                for term_index, fail_subject in enumerate(fails):\n",
    "                    current_term = list(subject_scores.keys())[term_index]\n",
    "                    subject_scores[current_term][fail_subject] = random.randint(30, 49)\n",
    "            else:\n",
    "                for fail_subject in fails:\n",
    "                    term_subjects[fail_subject] = random.randint(30, 49)  # Fail 2 compulsory subjects\n",
    "            \n",
    "        elif category == 'poor':\n",
    "            # Poor students have scores between 40 and 60, with 4 fails (non-consecutive if specified)\n",
    "            for subject in term_subjects:\n",
    "                term_subjects[subject] = random.randint(40, 60)\n",
    "            \n",
    "            fails = random.sample(compulsory_subjects, k=4)\n",
    "            # Spread out fails across terms for non-consecutive condition\n",
    "            if no_consecutive_fails:\n",
    "                for term_index, fail_subject in enumerate(fails):\n",
    "                    current_term = list(subject_scores.keys())[term_index % len(subject_scores)]\n",
    "                    subject_scores[current_term][fail_subject] = random.randint(30, 49)\n",
    "            else:\n",
    "                for fail_subject in fails:\n",
    "                    term_subjects[fail_subject] = random.randint(30, 49)  # Fail 4 compulsory subjects\n",
    "                \n",
    "    return subject_scores\n",
    "\n",
    "# Process the academic records based on the pass_or_fail status in exam_results\n",
    "for index, row in academic_records.iterrows():\n",
    "    student_id = row['student_id']\n",
    "    department = row['department']\n",
    "    \n",
    "    if department in ['Commercial', 'Arts']:\n",
    "        # Get student's exam result\n",
    "        exam_result = exam_results[exam_results['student_id'] == student_id]\n",
    "        \n",
    "        if not exam_result.empty:\n",
    "            pass_or_fail = exam_result.iloc[0]['pass_or_fail']\n",
    "            subject_scores = json.loads(row['subject_scores'])\n",
    "            compulsory_subjects = subjects[department]['compulsory']\n",
    "            \n",
    "            if pass_or_fail == 'Pass':\n",
    "                # Split students who passed into 60% good, 20% average, 20% poor\n",
    "                category = random.choices(['good', 'average', 'poor'], weights=[80, 10, 10], k=1)[0]\n",
    "                no_consecutive_fails = True if category in ['average', 'poor'] else False\n",
    "            else:\n",
    "                # Split students who failed into 60% poor, 30% average, 10% good\n",
    "                category = random.choices(['poor', 'average', 'good'], weights=[70, 20, 10], k=1)[0]\n",
    "                no_consecutive_fails = False  # Fails can be consecutive for failed students\n",
    "            \n",
    "            # Assign academic records based on the selected category\n",
    "            updated_subject_scores = assign_academic_record(category, subject_scores, compulsory_subjects, no_consecutive_fails)\n",
    "            academic_records.at[index, 'subject_scores'] = json.dumps(updated_subject_scores)\n",
    "\n",
    "# Save the updated academic records with corrected Arts and Commercial students\n",
    "academic_records.to_csv('updated_academic_records1.csv', index=False)"
   ]
  },
  {
   "cell_type": "code",
   "execution_count": 35,
   "id": "42218679-3343-4296-9d46-032617cb8062",
   "metadata": {},
   "outputs": [],
   "source": [
    "import pandas as pd\n",
    "import random\n",
    "\n",
    "# Load the data\n",
    "exam_results = pd.read_csv('exam_result2.csv')\n",
    "parents = pd.read_csv('parent_involvement.csv')\n",
    "\n",
    "# Function to assign parent data based on the pass/fail status\n",
    "def assign_parent_data(pass_or_fail):\n",
    "    parent_data = {}\n",
    "    \n",
    "    if pass_or_fail == 'Pass':\n",
    "        # Assign marital status for students who passed\n",
    "        marital_status = random.choices(['Married', 'Divorced'], weights=[70, 30], k=1)[0]\n",
    "        parent_data['marital_status'] = marital_status\n",
    "        \n",
    "        if marital_status == 'Married':\n",
    "            # Assign education level for married parents\n",
    "            parent_data['Educational Level'] = random.choices(['Tertiary', 'Secondary', 'None'], weights=[60, 30, 10], k=1)[0]\n",
    "            # Assign attendance\n",
    "            parent_data['Attendance'] = random.choices([True, False], weights=[70, 30], k=1)[0]\n",
    "            # Assign academic activity\n",
    "            parent_data['Academic performance'] = random.choices([True, False], weights=[50, 50], k=1)[0]\n",
    "        \n",
    "        elif marital_status == 'Divorced':\n",
    "            # Assign education level for divorced parents\n",
    "            parent_data['Educational Level'] = random.choices(['Tertiary', 'Primary', 'Secondary', 'None'], weights=[50, 20, 20, 10], k=1)[0]\n",
    "            # Assign attendance\n",
    "            parent_data['Attendance'] = random.choices([True, False], weights=[50, 50], k=1)[0]\n",
    "            # Assign academic activity\n",
    "            parent_data['Academic performance'] = random.choices([True, False], weights=[30, 70], k=1)[0]\n",
    "    \n",
    "    else:\n",
    "        # Assign marital status for students who failed\n",
    "        marital_status = random.choices(['Married', 'Divorced'], weights=[37, 63], k=1)[0]\n",
    "        parent_data['marital_status'] = marital_status\n",
    "        \n",
    "        if marital_status == 'Married':\n",
    "            # Assign education level for married parents\n",
    "            parent_data['Educational Level'] = random.choices(['Tertiary', 'Primary', 'Secondary'], weights=[35, 45, 20], k=1)[0]\n",
    "            # Assign attendance\n",
    "            parent_data['Attendance'] = random.choices([True, False], weights=[90, 10], k=1)[0]\n",
    "            # Assign academic activity\n",
    "            parent_data['Academic performance'] = random.choices([True, False], weights=[20, 80], k=1)[0]\n",
    "        \n",
    "        elif marital_status == 'Divorced':\n",
    "            # Assign education level for divorced parents\n",
    "            parent_data['Educational Level'] = random.choices(['Tertiary', 'Secondary', 'None'], weights=[40, 40, 20], k=1)[0]\n",
    "            # Assign attendance\n",
    "            parent_data['Attendance'] = random.choices([True, False], weights=[35, 65], k=1)[0]\n",
    "            # Assign academic activity\n",
    "            parent_data['Academic performance'] = random.choices([True, False], weights=[50, 50], k=1)[0]\n",
    "    \n",
    "    return parent_data\n",
    "\n",
    "# Update parent data based on student exam results\n",
    "for index, row in parents.iterrows():\n",
    "    student_id = row['student_id']\n",
    "    \n",
    "    # Get pass or fail result from exam_results.csv\n",
    "    exam_result = exam_results[exam_results['student_id'] == student_id]\n",
    "    \n",
    "    if not exam_result.empty:\n",
    "        pass_or_fail = exam_result.iloc[0]['pass_or_fail']\n",
    "        updated_data = assign_parent_data(pass_or_fail)\n",
    "        \n",
    "        # Update the parent data in the parents DataFrame\n",
    "        parents.at[index, 'marital_status'] = updated_data['marital_status']\n",
    "        parents.at[index, 'Educational Level'] = updated_data['Educational Level']\n",
    "        parents.at[index, 'Attendance'] = updated_data['Attendance']\n",
    "        parents.at[index, 'Academic performance'] = updated_data['Academic performance']\n",
    "\n",
    "# Save the updated parent data to a new CSV file\n",
    "parents.to_csv('updated_parent_data.csv', index=False)\n"
   ]
  },
  {
   "cell_type": "code",
   "execution_count": 62,
   "id": "bd8df90a-f951-4991-b1dc-98886065ce45",
   "metadata": {},
   "outputs": [
    {
     "name": "stdout",
     "output_type": "stream",
     "text": [
      "Subject Failures (sorted): [('Mathematics', 1487), ('Economics', 1376), ('Commerce', 1259), ('English Language', 1170), ('Financial Accounting', 1159), ('Government', 759), ('English', 662), ('Religion Studies', 518), ('Agricultural Science', 480), ('Biology', 478), ('History', 443), ('Fine Arts', 442), ('Literature in English', 439), ('Further Mathematics', 387), ('Civic Education', 363), ('Yoruba Language', 341), ('Geography', 299), ('Chemistry', 237), ('Physics', 235), ('Marketing', 158), ('Visual Art', 108), ('Fisheries', 101)]\n"
     ]
    }
   ],
   "source": [
    "import pandas as pd\n",
    "import json\n",
    "from collections import defaultdict\n",
    "\n",
    "# Load the CSV file\n",
    "exam_results = pd.read_csv(\"updated_academic_records1.csv\")\n",
    "\n",
    "# Function to extract scores and identify failures per subject\n",
    "def count_failures_per_subject(exam_results):\n",
    "    fail_counts = defaultdict(int)\n",
    "\n",
    "    for index, row in exam_results.iterrows():\n",
    "        subject_scores = json.loads(row['subject_scores'])  # Convert JSON-like string to dict\n",
    "\n",
    "        for term, subjects in subject_scores.items():\n",
    "            for subject, score in subjects.items():\n",
    "                if score < 50:  # Assuming 50 is the pass mark\n",
    "                    fail_counts[subject] += 1\n",
    "\n",
    "    return fail_counts\n",
    "\n",
    "# Get the count of failures per subject\n",
    "fail_counts = count_failures_per_subject(exam_results)\n",
    "\n",
    "# Sort subjects by failure rate\n",
    "sorted_failures = sorted(fail_counts.items(), key=lambda x: x[1], reverse=True)\n",
    "\n",
    "# Display the sorted failure counts\n",
    "print(\"Subject Failures (sorted):\", sorted_failures)\n"
   ]
  },
  {
   "cell_type": "code",
   "execution_count": 72,
   "id": "12511585-a969-4f52-983d-57e80e291c4b",
   "metadata": {},
   "outputs": [
    {
     "name": "stdout",
     "output_type": "stream",
     "text": [
      "   teacher_id               name subject_specialization  years_of_experience\n",
      "0           1   Temitope Odeyemi            Mathematics                    2\n",
      "1           2  Anuoluwapo Chukwu            Mathematics                    2\n",
      "2           3      Omolara Lawal            Mathematics                    2\n",
      "3           4     Modupe Fagbemi                Biology                   18\n",
      "4           5       Musa Olumide                Biology                   12\n"
     ]
    }
   ],
   "source": [
    "import pandas as pd\n",
    "import random\n",
    "\n",
    "# Lists of first and last names\n",
    "first_names = [\n",
    "    \"Adebayo\", \"Chidi\", \"Ngozi\", \"Fatima\", \"Emeka\", \"Olufunmi\", \"Tolu\", \n",
    "    \"Chinonso\", \"Ify\", \"Kehinde\", \"Ayomide\", \"Jibola\", \"Bola\", \"Chukwuemeka\", \n",
    "    \"Temitope\", \"Uche\", \"Amaka\", \"Damilola\", \"Aisha\", \"Micheal\", \"Patience\",\n",
    "    \"Adeola\", \"Ifeoma\", \"Oluwaseun\", \"Funmilayo\", \"Tomiwa\", \"Kemi\",\n",
    "    \"Tunde\", \"Chinyere\", \"Suleiman\", \"Adetola\", \"Ezinne\", \"Abdul\", \n",
    "    \"Osaretin\", \"Ireti\", \"Adewale\", \"Benedict\", \"Gbemi\", \"Yakubu\", \n",
    "    \"Oluwakemi\", \"Samuel\", \"Chisom\", \"Bolaji\", \"Taiwo\", \"Ada\", \"Musa\", \n",
    "    \"Femi\", \"Titi\", \"Abiodun\", \"Oluwadamilola\", \"Ibrahim\", \"Morenike\",\n",
    "    \"Bimpe\", \"Titilope\", \"Ikechukwu\", \"Kolawole\", \"Chukwuma\", \"Chinyelu\", \n",
    "    \"Ijeoma\", \"Segun\", \"Olumide\", \"Abayomi\", \"Rukayat\", \"Fausat\", \n",
    "    \"Zainab\", \"Modupe\", \"Anuoluwapo\", \"Omotola\", \"Babatunde\", \"Kunle\", \n",
    "    \"Aisha\", \"Solomon\", \"Chidera\", \"Oluwakayode\", \"Osas\", \"Omowumi\", \n",
    "    \"Umar\", \"Oluwaseyi\", \"Folake\", \"Efe\", \"Omolabake\", \"Sola\", \n",
    "    \"Eunice\", \"Tope\", \"Ebuka\", \"Yetunde\", \"Onyeka\", \"Ademola\", \n",
    "    \"Chisara\", \"Ismail\", \"Deborah\", \"Omolara\", \"Lateef\", \"Mohammed\", \n",
    "    \"Adunola\", \"Raphael\", \"Dayo\", \"Obinna\", \"Kudirat\", \"Opeyemi\"\n",
    "]\n",
    "\n",
    "last_names = [\n",
    "    \"Okeke\", \"Bello\", \"Ogunleye\", \"Abubakar\", \"Aliyu\", \"Chukwu\", \"Oni\", \n",
    "    \"Adeshina\", \"Fashola\", \"Nwankwo\", \"Adebisi\", \"Jolaoso\", \"Ibrahim\", \n",
    "    \"Oloyede\", \"Adeyemi\", \"Olawale\", \"Afolabi\", \"Kehinde\", \"Ogunyemi\", \n",
    "    \"Eze\", \"Nnamdi\", \"Ogunbiyi\", \"Okafor\", \"Sule\", \"Ogedengbe\", \"Onwuka\", \n",
    "    \"Adeniran\", \"Balogun\", \"Edeh\", \"Okoro\", \"Umar\", \"Akintola\", \"Adigun\", \n",
    "    \"Folarin\", \"Ibekwe\", \"Onyema\", \"Ogundipe\", \"Olaniyan\", \"Obi\", \n",
    "    \"Awolowo\", \"Alabi\", \"Ajayi\", \"Okoroafor\", \"Odeyemi\", \"Olufemi\", \n",
    "    \"Ayoade\", \"Onyeka\", \"Agbaje\", \"Odum\", \"Makinde\", \"Anyanwu\", \n",
    "    \"Omotosho\", \"Salami\", \"Ekwueme\", \"Sanni\", \"Fagbemi\", \"Obafemi\", \n",
    "    \"Ajibade\", \"Olumide\", \"Giwa\", \"Akindele\", \"Azeez\", \"Obiora\", \n",
    "    \"Bolarinwa\", \"Agu\", \"Ilesanmi\", \"Obasuyi\", \"Oguntade\", \"Lawal\", \n",
    "    \"Iroegbu\", \"Ojomu\", \"Faleye\", \"Adebayo\", \"Nwachukwu\", \"Owolabi\", \n",
    "    \"Agboola\", \"Akande\", \"Adekunle\", \"Olaitan\", \"Awojobi\", \"Aminu\", \n",
    "    \"Ojukwu\", \"Mogaji\", \"Onabanjo\", \"Suleiman\", \"Alade\", \"Okon\", \n",
    "    \"Adewumi\", \"Ajose\", \"Omole\", \"Aina\", \"Adamu\", \"Nwaneri\", \n",
    "    \"Olajide\", \"Osagie\", \"Agunbiade\", \"Onogwu\", \"Folarin\", \"Shonibare\", \n",
    "    \"Banwo\", \"Olorunfemi\", \"Ojo\", \"Akinola\", \"Osakwe\", \"Olapade\"\n",
    "]\n",
    "\n",
    "# Sample subjects categorized into Science, Arts, and Commercial\n",
    "subjects = {\n",
    "    'Science': ['Mathematics', 'Biology', 'Physics', 'Chemistry', 'Agricultural Science', 'Geography', 'Further Mathematics', 'Civic Education', 'Data Processing'],\n",
    "    'Arts': ['Literature in English', 'History', 'Fine Arts', 'Civic Education', 'Religion Studies', 'Government', 'Yoruba Language'],\n",
    "    'Commercial': ['Economics', 'Commerce', 'Financial Accounting','Fisheries', 'Business Studies', 'Data Processing', 'Marketing','Visual Art']\n",
    "}\n",
    "\n",
    "# High failure subjects based on your previous results\n",
    "high_failure_subjects = ['Mathematics', 'Economics', 'Commerce', 'English Language']\n",
    "\n",
    "# Function to generate random years of experience\n",
    "def generate_years_of_experience(subject):\n",
    "    if subject in high_failure_subjects:\n",
    "        return random.choice([1, 2, 3, 4])  # Less experience for high failure subjects\n",
    "    else:\n",
    "        return random.choice([3, 5, 10, 12, 15, 18])  # More varied experience for others\n",
    "\n",
    "# Create a list for storing teacher data\n",
    "teachers = []\n",
    "teacher_id = 1\n",
    "\n",
    "# Assign teachers to each subject\n",
    "for category, subs in subjects.items():\n",
    "    for subject in subs:\n",
    "        num_teachers = random.randint(2, 4)  # Randomly select 2 to 4 teachers\n",
    "        for _ in range(num_teachers):\n",
    "            first_name = random.choice(first_names)\n",
    "            last_name = random.choice(last_names)\n",
    "            name = f\"{first_name} {last_name}\"  # Combining first and last names\n",
    "            years_of_experience = generate_years_of_experience(subject)\n",
    "            teachers.append([teacher_id, name, subject, years_of_experience])\n",
    "            teacher_id += 1\n",
    "\n",
    "# Create a DataFrame and save it to CSV\n",
    "teachers_df = pd.DataFrame(teachers, columns=['teacher_id', 'name', 'subject_specialization', 'years_of_experience'])\n",
    "teachers_df.to_csv('teachers.csv', index=False)\n",
    "\n",
    "print(teachers_df.head())  # Display the first few rows\n"
   ]
  },
  {
   "cell_type": "code",
   "execution_count": 73,
   "id": "77dfc699-b36d-4ae7-94a6-e4c991608db4",
   "metadata": {},
   "outputs": [
    {
     "name": "stdout",
     "output_type": "stream",
     "text": [
      "Updated 'result_id' column and saved to exam_result2_updated.csv.\n"
     ]
    }
   ],
   "source": [
    "import pandas as pd\n",
    "\n",
    "# Load the CSV file\n",
    "file_path = 'exam_result2.csv'  # Replace with the actual path to your file\n",
    "exam_results_df = pd.read_csv(file_path)\n",
    "\n",
    "# Check if 'result_id' is empty\n",
    "if 'result_id' in exam_results_df.columns:\n",
    "    # Generate a unique ID for each row starting from 1\n",
    "    exam_results_df['result_id'] = range(1, len(exam_results_df) + 1)\n",
    "\n",
    "    # Save the updated DataFrame back to CSV\n",
    "    exam_results_df.to_csv('exam_result2.csv', index=False)\n",
    "    print(\"Updated 'result_id' column and saved to exam_result2_updated.csv.\")\n",
    "else:\n",
    "    print(\"'result_id' column not found in the file.\")\n"
   ]
  },
  {
   "cell_type": "code",
   "execution_count": 76,
   "id": "89587add-0085-4f55-a671-8189ca19f03b",
   "metadata": {},
   "outputs": [],
   "source": [
    "import pandas as pd\n",
    "\n",
    "# Load the existing academic_records DataFrame\n",
    "academic_records = pd.read_csv('updated_academic_records1.csv')\n",
    "\n",
    "# Create a new primary key column\n",
    "academic_records['record_id'] = range(1, len(academic_records) + 1)\n",
    "\n",
    "# Reorder the columns if needed\n",
    "academic_records = academic_records[['record_id', 'student_id', 'department', 'subject_scores', 'attendance_rate']]\n",
    "\n",
    "# Save the updated DataFrame back to CSV\n",
    "academic_records.to_csv('updated_academic_records1.csv', index=False)\n"
   ]
  },
  {
   "cell_type": "code",
   "execution_count": 79,
   "id": "a412ad27-cf8f-4662-aa5a-1e21e9e03089",
   "metadata": {},
   "outputs": [],
   "source": [
    "import pandas as pd\n",
    "import ast  # This is for safely evaluating the dictionary string\n",
    "\n",
    "\n",
    "file_path = 'exam_result2_updated.csv'  # Replace with your CSV file path\n",
    "data = pd.read_csv(file_path)\n",
    "\n",
    "# Step 2: Clean and ensure JSON formatting in subject_scores\n",
    "def format_json_scores(scores):\n",
    "    # Replace single quotes with double quotes and strip spaces\n",
    "    clean_scores = scores.replace(\"'\", '\"').replace(\" \", \"\")\n",
    "    try:\n",
    "        return json.loads(clean_scores)  # Load into a JSON object\n",
    "    except json.JSONDecodeError as e:\n",
    "        print(f\"Error decoding JSON: {e} | Scores: {clean_scores}\")\n",
    "        return None\n",
    "\n",
    "# Apply the JSON formatting function\n",
    "data['subject_scores'] = data['subject_scores'].apply(format_json_scores)\n",
    "\n",
    "data.to_csv('exam_result2_updated.csv')"
   ]
  },
  {
   "cell_type": "code",
   "execution_count": null,
   "id": "78135640-f3cb-4e7c-a64e-83cdbea622c6",
   "metadata": {},
   "outputs": [],
   "source": []
  }
 ],
 "metadata": {
  "kernelspec": {
   "display_name": "Python 3 (ipykernel)",
   "language": "python",
   "name": "python3"
  },
  "language_info": {
   "codemirror_mode": {
    "name": "ipython",
    "version": 3
   },
   "file_extension": ".py",
   "mimetype": "text/x-python",
   "name": "python",
   "nbconvert_exporter": "python",
   "pygments_lexer": "ipython3",
   "version": "3.12.6"
  }
 },
 "nbformat": 4,
 "nbformat_minor": 5
}
